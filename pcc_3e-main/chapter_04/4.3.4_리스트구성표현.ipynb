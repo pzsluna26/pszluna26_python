{
 "cells": [
  {
   "cell_type": "markdown",
   "metadata": {},
   "source": [
    "4.3.4 list comprehension\n",
    "- 파이썬에서의 list comprehension은 **\"리스트를 구성하기 위한 문법적 표현\"**이라는 의미\n",
    "- comprehension: to contain or hold within a total scope, significance\n",
    "- 문맥상 의미: 포괄적 표현 / 축약된 구성 표현\n",
    "- \"주어진 조건이나 규칙을 바탕으로 리스트를 포괄적으로 생성하는 방법\"\n",
    "- 리스트 구성 표현이 적합한 번역임 > 조건/규칙 기반으로 리스트를 생성하는 축약 표현.\n",
    "\n"
   ]
  },
  {
   "cell_type": "code",
   "execution_count": null,
   "metadata": {},
   "outputs": [],
   "source": [
    "squares = [x**2 for x in range(5)]  # list comprehension\n",
    "# x**2이라는 규칙을 바탕으로 리스트를 “포괄적으로 이해하고 생성”하는 구조"
   ]
  },
  {
   "cell_type": "code",
   "execution_count": 1,
   "metadata": {},
   "outputs": [
    {
     "name": "stdout",
     "output_type": "stream",
     "text": [
      "range(0, 10)\n",
      "<class 'list'>\n",
      "<class 'range'>\n"
     ]
    }
   ],
   "source": [
    "# 실습과제2_4장리스트for 문\n",
    "rng = range(10)\n",
    "print(rng)\n",
    "## range(10)은 range 객체로, 이는 0부터 9까지의 숫자를 생성하는 반복 가능한(iterable) 객체입니다.\n",
    "l = [1,2,3]\n",
    "print(type(l))\n",
    "print(type(rng))"
   ]
  },
  {
   "cell_type": "code",
   "execution_count": 2,
   "metadata": {},
   "outputs": [
    {
     "name": "stdout",
     "output_type": "stream",
     "text": [
      "[[0, 1, 2, 3, 4], [5, 6, 7, 8, 9], [10, 11, 12, 13, 14]]\n",
      "2차원 배열 (3x5):\n",
      "[0, 1, 2, 3, 4]\n",
      "[5, 6, 7, 8, 9]\n",
      "[10, 11, 12, 13, 14]\n",
      "\n",
      "첫 번째 열: [0, 5, 10]\n",
      "첫 번째 행: [0, 1, 2, 3, 4]\n",
      "첫 번째 행의 앞 3개 요소: [0, 1, 2]\n"
     ]
    }
   ],
   "source": [
    "# (3, 5) 크기의 2차원 배열 생성: 3행 5열\n",
    "tup = (3,5)\n",
    "rows, cols = tup #unpacking(괄호를 빼는것)이라고 부름\n",
    "\n",
    "# 리스트 컴프리헨션과 range()를 사용하여 2차원 배열 만들기\n",
    "matrix = [ [i + j*cols for i in range(cols)]for j in range(rows)]\n",
    "print(matrix)\n",
    "\n",
    "# 2차원 배열 출력\n",
    "print(\"2차원 배열 (3x5):\")\n",
    "for row in matrix:\n",
    "    print(row)\n",
    "\n",
    "# 리스트 슬라이싱: 첫 번째 열만 출력\n",
    "first_column = [row[0] for row in matrix]\n",
    "print(\"\\n첫 번째 열:\", first_column)\n",
    "\n",
    "# 리스트 슬라이싱: 첫 번째 행만 출력\n",
    "first_row = matrix[0]\n",
    "print(\"첫 번째 행:\", first_row)\n",
    "\n",
    "# 리스트 슬라이싱: 첫 번째 행의 앞 3개 요소만 슬라이싱\n",
    "first_row_sliced = first_row[:3]\n",
    "print(\"첫 번째 행의 앞 3개 요소:\", first_row_sliced)"
   ]
  },
  {
   "cell_type": "code",
   "execution_count": null,
   "metadata": {},
   "outputs": [
    {
     "name": "stdout",
     "output_type": "stream",
     "text": [
      "[0, 1, 2, 3, 4, 5, 6, 7, 8, 9, 10]\n",
      "[99, 9, 8, 7, 6, 5, 4, 3, 2, 1, 0]\n",
      "[0, 1, 2, 3, 4, 5, 6, 7, 8, 9, 10]\n",
      "[11, 1, 2, 3, 4, 5, 6, 7, 8, 9, 10]\n"
     ]
    }
   ],
   "source": [
    "# 리스트[start:stop:step]\n",
    "# start: 시작 인덱스 (포함)\n",
    "# stop: 끝 인덱스 (포함되지 않음)\n",
    "# step: 인덱스 증가 값 (기본값은 1) , -값이면 반대 방향\n",
    "numbers = list(range(11))\n",
    "print(numbers)\n",
    "# 리스트를 뒤집기\n",
    "reversed_list = numbers[::-1] #슬라이스 결과는 사본임(COPY) 원본은 그대로있음\n",
    "reversed_list[0] = 99 #사본에 변경한것\n",
    "print(reversed_list)\n",
    "print(numbers) #원래 배열이 안바뀜(사본에 변경된것이라, 원본은 그대로)\n",
    "numbers2 = numbers #참조변수가 같은 리스트를 가리키고 있음(값이 변경됨)\n",
    "numbers2[0] = 11\n",
    "print(numbers)"
   ]
  },
  {
   "cell_type": "code",
   "execution_count": 3,
   "metadata": {},
   "outputs": [
    {
     "name": "stdout",
     "output_type": "stream",
     "text": [
      "[[], [], [], [], []]\n",
      "[[1, 2, 3, 4, 5, 6, 7, 8], [9, 10, 11, 12, 13, 14, 15, 16], [17, 18, 19, 20, 21, 22, 23, 24], [25, 26, 27, 28, 29, 30, 31, 32], [33, 34, 35, 36, 37, 38, 39, 40]]\n"
     ]
    }
   ],
   "source": [
    "array = [[] for i in range(5)]  \n",
    "print(array)\n",
    "for i in range(5):  \n",
    "    for j in range(1, 9):  \n",
    "        array[i].append(j+8*i)  \n",
    "\n",
    "print(array)"
   ]
  },
  {
   "cell_type": "code",
   "execution_count": null,
   "metadata": {},
   "outputs": [
    {
     "name": "stdout",
     "output_type": "stream",
     "text": [
      "원본 행렬:\n",
      "[98, 82, 24, 75, 73, 56, 75]\n",
      "[78, 50, 47, 41, 31, 65, 36]\n",
      "[19, 87, 7, 42, 8, 38, 46]\n",
      "[10, 8, 12, 16, 65, 24, 58]\n",
      "[98, 21, 33, 31, 45, 31, 70]\n",
      "\n",
      "결과 행렬 (최대 값부터 3번째 큰 값까지):\n",
      "[24, 56, 73]\n",
      "[31, 36, 41]\n",
      "[7, 8, 19]\n",
      "[8, 10, 12]\n",
      "[21, 31, 31]\n"
     ]
    }
   ],
   "source": [
    "import random\n",
    "\n",
    "# 행렬의 크기 정의 (5x7 행렬)\n",
    "rows, cols = 5, 7\n",
    "\n",
    "# 2차원 행렬을 난수로 초기화\n",
    "matrix = [[random.randint(0, 100) for _ in range(cols)] for _ in range(rows)]\n",
    "\n",
    "# 행렬 출력\n",
    "print(\"원본 행렬:\")\n",
    "for row in matrix:\n",
    "    print(row)\n",
    "\n",
    "# 각 행에서 최대 값부터 3번째 큰 값까지 순서대로 행렬 만들기\n",
    "result_matrix = []\n",
    "\n",
    "for row in matrix:\n",
    "    # 오름차순\n",
    "    sorted_row = sorted(row)\n",
    "\n",
    "    # 내림차순 / 행을 정렬하여 최대 값부터 작은 값으로 정렬\n",
    "    sorted_row = sorted(row, reverse=True)\n",
    "    \n",
    "    # 최대 값부터 3번째 큰 값까지 가져오기\n",
    "    top_three = sorted_row[:3]\n",
    "    \n",
    "    # 3개 값이 아닌 경우 None으로 채우기\n",
    "    while len(top_three) < 3:\n",
    "        top_three.append(None)\n",
    "    \n",
    "    # 결과 행렬에 추가\n",
    "    result_matrix.append(top_three)\n",
    "\n",
    "# 결과 행렬 출력\n",
    "print(\"\\n결과 행렬 (최대 값부터 3번째 큰 값까지):\")\n",
    "for row in result_matrix:\n",
    "    print(row)\n"
   ]
  },
  {
   "cell_type": "markdown",
   "metadata": {},
   "source": []
  },
  {
   "cell_type": "code",
   "execution_count": null,
   "metadata": {},
   "outputs": [],
   "source": [
    "\n",
    "# 예시 2차원 행렬\n",
    "matrix = [\n",
    "    [10, 20, 30],\n",
    "    [40, 50, 60],\n",
    "    [70, 80, 90],\n",
    "    [25, 35, 45],\n",
    "    [5, 15, 25]\n",
    "]\n",
    "\n",
    "# 각 열의 최대값 3개를 뽑는 list comprehension\n",
    "# 1. sorted() : 최대값부터 정렬, 행들에 대해서 열 \n",
    "result_matrix = [sorted([row[col_idx] for row in matrix], reverse=True)[:3] for col_idx in range(len(matrix[0]))]\n",
    "\n",
    "# 열을 행으로 변환 (list comprehension을 다시 사용)\n",
    "result_matrix = [list(row) for row in zip(*result_matrix)]\n",
    "\n",
    "# 결과 출력\n",
    "for row in result_matrix:\n",
    "    print(row)"
   ]
  },
  {
   "cell_type": "markdown",
   "metadata": {},
   "source": [
    "if 문이 포함된 list comprehension"
   ]
  },
  {
   "cell_type": "code",
   "execution_count": 11,
   "metadata": {},
   "outputs": [
    {
     "name": "stdout",
     "output_type": "stream",
     "text": [
      "[0, 1, 2, 3, 4, 5, 6, 7, 8, 9, 10]\n",
      "[0, 2, 4, 6, 8, 10]\n",
      "[0, 0, 2, 0, 4, 0, 6, 0, 8, 0, 10]\n"
     ]
    }
   ],
   "source": [
    "numbers = list(range(11))\n",
    "print(numbers)\n",
    "lst = [n for n in numbers if n%2 == 0] #짝수면 n에 포함한다\n",
    "print(lst)\n",
    "lst2 = [n if n%2 == 0 else 0 for n in numbers]\n",
    "# n if n%2 == 0 else 0 이부분 삼항연산자랑 비슷 => (n%2==0 ? n :0)\n",
    "print(lst2)"
   ]
  },
  {
   "cell_type": "code",
   "execution_count": 5,
   "metadata": {},
   "outputs": [
    {
     "name": "stdout",
     "output_type": "stream",
     "text": [
      "['happy', 'birthday']\n"
     ]
    }
   ],
   "source": [
    "words = [\"good\",\"nice\", \"the\", \"happy\", \"birthday\"]\n",
    "long_word = [w for w in words if len(w) >= 5]\n",
    "print(long_word)"
   ]
  }
 ],
 "metadata": {
  "kernelspec": {
   "display_name": "Python 3",
   "language": "python",
   "name": "python3"
  },
  "language_info": {
   "codemirror_mode": {
    "name": "ipython",
    "version": 3
   },
   "file_extension": ".py",
   "mimetype": "text/x-python",
   "name": "python",
   "nbconvert_exporter": "python",
   "pygments_lexer": "ipython3",
   "version": "3.9.13"
  }
 },
 "nbformat": 4,
 "nbformat_minor": 2
}
