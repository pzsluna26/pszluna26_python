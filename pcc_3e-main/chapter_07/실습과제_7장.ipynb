{
 "cells": [
  {
   "cell_type": "code",
   "execution_count": null,
   "id": "cc044ba4",
   "metadata": {},
   "outputs": [],
   "source": [
    "# 과제 1: 리스트 순차 출력 (기본)\n",
    "# 문제 : 아래의 리스트를 while문을 이용해 하나씩 출력하세요.\n",
    "# 아래의 리스트를 while문을 이용해 하나씩 출력하세요.\n",
    "# fruits = [\"사과\", \"바나나\", \"포도\", \"오렌지\", \"복숭아\"]"
   ]
  }
 ],
 "metadata": {
  "language_info": {
   "name": "python"
  }
 },
 "nbformat": 4,
 "nbformat_minor": 5
}
