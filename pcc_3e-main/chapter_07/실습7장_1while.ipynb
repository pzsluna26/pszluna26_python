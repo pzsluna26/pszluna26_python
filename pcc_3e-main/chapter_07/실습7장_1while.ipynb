{
 "cells": [
  {
   "cell_type": "markdown",
   "metadata": {},
   "source": [
    "7장 while 문"
   ]
  },
  {
   "cell_type": "code",
   "execution_count": 4,
   "metadata": {},
   "outputs": [
    {
     "name": "stdout",
     "output_type": "stream",
     "text": [
      "num = 5\n",
      "num = 5\n",
      "num = 3\n",
      "num = 1\n"
     ]
    }
   ],
   "source": [
    "n = input(\"입력데이터:\") # powershell terminal에서 $jupyter notebook 실행으로 해결 \n",
    "num = int(n)\n",
    "if num > 0 :\n",
    "    print(f\"num = {num}\")\n",
    "    while (num > 0):\n",
    "        if num % 2 == 1:\n",
    "            print(f\"num = {num}\")\n",
    "        #num--\n",
    "        num -= 1"
   ]
  },
  {
   "cell_type": "code",
   "execution_count": 4,
   "metadata": {},
   "outputs": [
    {
     "name": "stdout",
     "output_type": "stream",
     "text": [
      "m = [1, 2, 3, 4]\n"
     ]
    }
   ],
   "source": [
    "lst = [1,2,3,4] # 1차원\n",
    "lst2=[[1,2,3,4]] ## 2차원 \n",
    "for m in lst2:\n",
    "    print(f\"m = {m}\")\n",
    "    "
   ]
  },
  {
   "cell_type": "markdown",
   "metadata": {},
   "source": [
    "y = w0*x0 + w1*x1 + w2*x2 + ... + wn-1 * xn-1 >>행렬 x[[x0,x1,x2 ...]] * w[[w0],[w1],[w2]...] 와 같다 "
   ]
  },
  {
   "cell_type": "code",
   "execution_count": null,
   "metadata": {},
   "outputs": [
    {
     "name": "stdout",
     "output_type": "stream",
     "text": [
      "[[1, 1, 1, 1, 1]]\n",
      "[[0], [0], [0], [0], [0]]\n"
     ]
    }
   ],
   "source": [
    "matrix1 = [[1 for _ in range(5)] for _ in range(1)]\n",
    "matrix2 = [[0] for _ in range(5)]\n",
    "print(matrix1)\n",
    "print(matrix2)\n"
   ]
  },
  {
   "cell_type": "code",
   "execution_count": 4,
   "metadata": {},
   "outputs": [
    {
     "name": "stdout",
     "output_type": "stream",
     "text": [
      "Matrix 1 (1x5):\n",
      "[0.029878731562193783, 0.23088439022130802, 0.5743042445667739, -0.22529217277146407, -0.9861613432102847]\n",
      "\n",
      "Matrix 2 (5x1):\n",
      "[-0.07305892306826611]\n",
      "[0.18022521259242863]\n",
      "[0.9069950231482085]\n",
      "[-0.7280008672734533]\n",
      "[0.2259277243225697]\n",
      "\n",
      "Matrix Product (1x1):\n",
      "[0.5015310810374425]\n"
     ]
    }
   ],
   "source": [
    "import random\n",
    "\n",
    "# 행렬의 크기\n",
    "rows_matrix1 = 1  # matrix1은 1x5\n",
    "cols_matrix1 = 5\n",
    "\n",
    "rows_matrix2 = 5  # matrix2는 5x1\n",
    "cols_matrix2 = 1\n",
    "\n",
    "# 난수를 사용하여 두 개의 2D 리스트(행렬) 생성\n",
    "matrix1 = [[random.uniform(-1, 1) for _ in range(cols_matrix1)] for _ in range(rows_matrix1)]\n",
    "\n",
    "matrix2 = [[random.uniform(-1, 1)] for _ in range(rows_matrix2)]\n",
    "\n",
    "# 결과를 저장할 빈 2D 리스트 (행렬 곱셈 결과 저장용)\n",
    "# matrix1이 (1x5), matrix2가 (5x1)일 때 결과는 (1x1) 행렬\n",
    "result = [[0 for _ in range(1)] for _ in range(1)]\n",
    "\n",
    "# while 루프를 사용하여 행렬 곱셈 수행 (1x5) * (5x1) -> (1x1)\n",
    "i = 0\n",
    "while i < rows_matrix1:\n",
    "    j = 0\n",
    "    while j < cols_matrix2:\n",
    "        k = 0\n",
    "        while k < cols_matrix1:  # matrix1의 열과 matrix2의 행의 크기가 같아야 함\n",
    "            result[i][j] += matrix1[i][k] * matrix2[k][j]\n",
    "            k += 1\n",
    "        j += 1\n",
    "    i += 1\n",
    "\n",
    "# 결과 출력\n",
    "print(\"Matrix 1 (1x5):\")\n",
    "for row in matrix1:\n",
    "    print(row)\n",
    "\n",
    "print(\"\\nMatrix 2 (5x1):\")\n",
    "for row in matrix2:\n",
    "    print(row)\n",
    "\n",
    "print(\"\\nMatrix Product (1x1):\")\n",
    "for row in result:\n",
    "    print(row)"
   ]
  },
  {
   "cell_type": "markdown",
   "metadata": {},
   "source": [
    "Matrix 1 (1x5):\n",
    "[0.4998302696512782, -0.9497493912509134, 0.023998768817964367, 0.6141563838365167, 0.40362198024704377]\n",
    "\n",
    "Matrix 2 (5x1):\n",
    "[-0.8439597510122425]\n",
    "[0.4704744195677144]\n",
    "[-0.016112882741132317]\n",
    "[-0.331767171286554]\n",
    "[0.5729847603639666]\n",
    "\n",
    "Matrix Product (1x1):\n",
    "[-0.8415437954182721]"
   ]
  },
  {
   "cell_type": "code",
   "execution_count": 6,
   "metadata": {},
   "outputs": [
    {
     "name": "stdout",
     "output_type": "stream",
     "text": [
      "{'sid': 1, 'sname': 'Kim', 'age': 20, 'city': 'Seoul'}\n",
      "Seoul\n",
      "{'sid': 2, 'sname': 'Lee', 'age': 21, 'city': 'Busan'}\n",
      "{'sid': 4, 'sname': 'Choi', 'age': 20, 'city': 'Busan'}\n"
     ]
    }
   ],
   "source": [
    "# 5개의 학생 데이터를 딕셔너리로 생성\n",
    "student1 = {'sid': 1, 'sname': 'Kim', 'age': 20, 'city': 'Seoul'}\n",
    "student2 = {'sid': 2, 'sname': 'Lee', 'age': 21, 'city': 'Busan'}\n",
    "student3 = {'sid': 3, 'sname': 'Park', 'age': 22, 'city': 'Incheon'}\n",
    "student4 = {'sid': 4, 'sname': 'Choi', 'age': 20, 'city': 'Busan'}\n",
    "student5 = {'sid': 5, 'sname': 'Jung', 'age': 23, 'city': 'Daegu'}\n",
    "\n",
    "# 학생 딕셔너리를 리스트에 저장\n",
    "students = [student1, student2, student3, student4, student5]\n",
    "s1 = students[0]\n",
    "city = s1['city']\n",
    "print(s1)\n",
    "print(city)\n",
    "\n",
    "# while 문으로 부산에 사는 학생만 출력\n",
    "i = 0\n",
    "while i < len(students):\n",
    "    if students[i]['city'] == 'Busan':\n",
    "        print(students[i])\n",
    "    i += 1"
   ]
  }
 ],
 "metadata": {
  "kernelspec": {
   "display_name": "Python 3",
   "language": "python",
   "name": "python3"
  },
  "language_info": {
   "codemirror_mode": {
    "name": "ipython",
    "version": 3
   },
   "file_extension": ".py",
   "mimetype": "text/x-python",
   "name": "python",
   "nbconvert_exporter": "python",
   "pygments_lexer": "ipython3",
   "version": "3.9.13"
  }
 },
 "nbformat": 4,
 "nbformat_minor": 2
}
