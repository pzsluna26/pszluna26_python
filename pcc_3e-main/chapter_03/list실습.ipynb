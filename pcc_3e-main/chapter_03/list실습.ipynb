{
 "cells": [
  {
   "cell_type": "code",
   "execution_count": 27,
   "id": "845520e8",
   "metadata": {},
   "outputs": [
    {
     "name": "stdout",
     "output_type": "stream",
     "text": [
      "['trek', 'cannon', 'red', 'special']\n"
     ]
    }
   ],
   "source": [
    "bicycles = ['trek', 'cannon', 'red', 'special']\n",
    "print(bicycles)"
   ]
  },
  {
   "cell_type": "code",
   "execution_count": 4,
   "id": "db7f3f1c",
   "metadata": {},
   "outputs": [
    {
     "name": "stdout",
     "output_type": "stream",
     "text": [
      "[0, 0, 0, 0, 0, 0, 0, 0, 0, 0]\n"
     ]
    }
   ],
   "source": [
    "zeros=[0]*10\n",
    "print(zeros)"
   ]
  },
  {
   "cell_type": "code",
   "execution_count": 19,
   "id": "8ebae470",
   "metadata": {},
   "outputs": [
    {
     "name": "stdout",
     "output_type": "stream",
     "text": [
      "['red']\n"
     ]
    }
   ],
   "source": [
    "print(bicycles[2:-1])"
   ]
  },
  {
   "cell_type": "code",
   "execution_count": null,
   "id": "ef30fa24",
   "metadata": {},
   "outputs": [
    {
     "name": "stdout",
     "output_type": "stream",
     "text": [
      "['trek', 'cannon', 'red', 'special']\n",
      "['trek']\n",
      "special\n"
     ]
    }
   ],
   "source": [
    "bicycles = ['trek', 'cannon', 'red', 'special']\n",
    "print(bicycles)\n",
    "#수정\n",
    "# bicycles[0]='삼천리'\n",
    "\n",
    "#추가(맨 뒤 인덱스에 추가됨)\n",
    "#bicycles.append('산악자전거')\n",
    "\n",
    "#추가(지정 인덱스에 추가됨)\n",
    "#bicycles.insert(1, '현대')\n",
    "\n",
    "#삭제\n",
    "#삭제1 : 삭제할 요소의 인덱스를 알때\n",
    "del bicycles[1] \n",
    "\n",
    "#삭제2 : 마지막요소 삭제\n",
    "bike = bicycles.pop()\n",
    "\n",
    "#삭제3 : 요소지정 삭제\n",
    "bicycles.remove('red') \n",
    "\n",
    "print(bicycles)\n",
    "print(bike)"
   ]
  },
  {
   "cell_type": "code",
   "execution_count": null,
   "id": "9d1eb747",
   "metadata": {},
   "outputs": [
    {
     "name": "stdout",
     "output_type": "stream",
     "text": [
      "['benz', 'k5', 'sorento', 'zenesis', 'bmw']\n",
      "['zenesis', 'sorento', 'k5', 'bmw', 'benz']\n",
      "['zenesis', 'sorento', 'k5', 'bmw', 'benz']\n",
      "benz\n",
      "benz\n",
      "['sorento', 'k5']\n",
      "['sorento', 'k5']\n"
     ]
    }
   ],
   "source": [
    "cars = ['bmw', 'zenesis', 'sorento', 'k5', 'benz']\n",
    "cars.reverse()\n",
    "print(cars)\n",
    "\n",
    "cars.sort(reverse=True) #자체를 정렬 => 메소드 이므로 정렬 권한\n",
    "print(cars)\n",
    "\n",
    "# list자체는 정렬하지 않고 정렬된 결과만 출력\n",
    "\n",
    "\n",
    "print(cars)\n",
    "print(cars[4])\n",
    "print(cars[-1]) #-1은 마지막 요소 => 아주 편리한데 복잡함\n",
    "print(cars[1:-2]) #-2는 마지막에서 두번째 요소\n",
    "print(cars[1:3])"
   ]
  },
  {
   "cell_type": "code",
   "execution_count": null,
   "id": "5b2f6584",
   "metadata": {},
   "outputs": [
    {
     "name": "stdout",
     "output_type": "stream",
     "text": [
      "['zenesis', 'sorento', 'k5', 'bmw', 'benz']\n",
      "차 이름= zenesis\n",
      "차 이름= sorento\n",
      "차 이름= k5\n",
      "차 이름= bmw\n",
      "차 이름= benz\n",
      "['zenesis', 'sorento', 'k5', 'bmw', 'benz']\n",
      "성공적으로 종료\n"
     ]
    }
   ],
   "source": [
    "# 확장형 for문 => java와 유사\n",
    "print(cars)\n",
    "# loop block의 시작과 끝\n",
    "for c in cars:\n",
    "    print(f\"차 이름= {c}\")\n",
    "    print(cars)\n",
    "print(\"성공적으로 종료\")"
   ]
  },
  {
   "cell_type": "code",
   "execution_count": 51,
   "id": "a525c8ba",
   "metadata": {},
   "outputs": [
    {
     "name": "stdout",
     "output_type": "stream",
     "text": [
      "range(1, 6)\n",
      "range(1, 6)\n",
      "1\n",
      "2\n",
      "3\n",
      "4\n",
      "5\n"
     ]
    }
   ],
   "source": [
    "# 객체라는 것: 1~6\n",
    "print(first)\n",
    "first = range(1,6)\n",
    "print(first)\n",
    "for value in range(1,6):\n",
    "    print(value)"
   ]
  }
 ],
 "metadata": {
  "kernelspec": {
   "display_name": "Python 3",
   "language": "python",
   "name": "python3"
  },
  "language_info": {
   "codemirror_mode": {
    "name": "ipython",
    "version": 3
   },
   "file_extension": ".py",
   "mimetype": "text/x-python",
   "name": "python",
   "nbconvert_exporter": "python",
   "pygments_lexer": "ipython3",
   "version": "3.9.13"
  }
 },
 "nbformat": 4,
 "nbformat_minor": 5
}
