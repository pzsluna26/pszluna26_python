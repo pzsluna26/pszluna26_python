{
 "cells": [
  {
   "cell_type": "code",
   "execution_count": 6,
   "id": "36318370",
   "metadata": {},
   "outputs": [
    {
     "name": "stdout",
     "output_type": "stream",
     "text": [
      "[89, 76, 90, 66, 72]\n",
      "[55, 76, 90, 72]\n",
      "['불합격', '합격', '합격', '불합격', '합격', '불합격', '합격']\n"
     ]
    }
   ],
   "source": [
    "# STEP 1: 리스트 + 리스트 컴프리헨션 기본\n",
    "scores = [55,89, 76, 45, 90, 66, 72]\n",
    "\n",
    "# 1-1.아래의 점수 리스트에서 60점 이상만 추출하는 코드를 리스트 comprehension 작성.\n",
    "score1 = [score for score in scores if score >= 60]\n",
    "print(score1)\n",
    "\n",
    "# 1-2.짝수 인덱스에 해당하는 점수만 출력 (슬라이싱 사용).\n",
    "score1 = [score for idx,score in enumerate(scores) if idx % 2 == 0]\n",
    "print(score1)\n",
    "\n",
    "# 1-3.점수 리스트에서 **70점 이상이면 '합격', 아니면 '불합격'**으로 변환된 결과 리스트.\n",
    "results = ['합격' if score >= 70 else '불합격' for score in scores]\n",
    "print(results)"
   ]
  }
 ],
 "metadata": {
  "kernelspec": {
   "display_name": "Python 3",
   "language": "python",
   "name": "python3"
  },
  "language_info": {
   "codemirror_mode": {
    "name": "ipython",
    "version": 3
   },
   "file_extension": ".py",
   "mimetype": "text/x-python",
   "name": "python",
   "nbconvert_exporter": "python",
   "pygments_lexer": "ipython3",
   "version": "3.9.13"
  }
 },
 "nbformat": 4,
 "nbformat_minor": 5
}
